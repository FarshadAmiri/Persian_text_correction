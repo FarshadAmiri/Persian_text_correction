{
 "cells": [
  {
   "cell_type": "code",
   "execution_count": 1,
   "id": "814d313d",
   "metadata": {},
   "outputs": [
    {
     "name": "stderr",
     "output_type": "stream",
     "text": [
      "D:\\Projects\\venv2\\lib\\site-packages\\transformers\\utils\\generic.py:441: UserWarning: torch.utils._pytree._register_pytree_node is deprecated. Please use torch.utils._pytree.register_pytree_node instead.\n",
      "  _torch_pytree._register_pytree_node(\n",
      "D:\\Projects\\venv2\\lib\\site-packages\\transformers\\utils\\generic.py:309: UserWarning: torch.utils._pytree._register_pytree_node is deprecated. Please use torch.utils._pytree.register_pytree_node instead.\n",
      "  _torch_pytree._register_pytree_node(\n",
      "D:\\Projects\\venv2\\lib\\site-packages\\transformers\\utils\\generic.py:309: UserWarning: torch.utils._pytree._register_pytree_node is deprecated. Please use torch.utils._pytree.register_pytree_node instead.\n",
      "  _torch_pytree._register_pytree_node(\n"
     ]
    }
   ],
   "source": [
    "from transformers import WhisperProcessor, WhisperForConditionalGeneration\n",
    "import torchaudio\n",
    "from pprint import pprint"
   ]
  },
  {
   "cell_type": "markdown",
   "id": "75918854",
   "metadata": {},
   "source": [
    "General settings and functions"
   ]
  },
  {
   "cell_type": "code",
   "execution_count": 2,
   "id": "b138d1f8",
   "metadata": {},
   "outputs": [],
   "source": [
    "LANGUAGE = \"fa\"\n",
    "MODEL = \"openai/whisper-medium\"\n",
    "FINETUNED_MODEL_PATH = r\"D:\\Git_repos\\Persian_text_correction\\models\\finetuned_whisper-large-fa_1\\checkpoint-5200\""
   ]
  },
  {
   "cell_type": "code",
   "execution_count": 3,
   "id": "788518e6",
   "metadata": {},
   "outputs": [
    {
     "name": "stderr",
     "output_type": "stream",
     "text": [
      "D:\\Projects\\venv2\\lib\\site-packages\\huggingface_hub\\file_download.py:896: FutureWarning: `resume_download` is deprecated and will be removed in version 1.0.0. Downloads always resume when possible. If you want to force a new download, use `force_download=True`.\n",
      "  warnings.warn(\n",
      "Special tokens have been added in the vocabulary, make sure the associated word embeddings are fine-tuned or trained.\n"
     ]
    },
    {
     "data": {
      "text/plain": [
       "WhisperForConditionalGeneration(\n",
       "  (model): WhisperModel(\n",
       "    (encoder): WhisperEncoder(\n",
       "      (conv1): Conv1d(80, 1024, kernel_size=(3,), stride=(1,), padding=(1,))\n",
       "      (conv2): Conv1d(1024, 1024, kernel_size=(3,), stride=(2,), padding=(1,))\n",
       "      (embed_positions): Embedding(1500, 1024)\n",
       "      (layers): ModuleList(\n",
       "        (0-23): 24 x WhisperEncoderLayer(\n",
       "          (self_attn): WhisperAttention(\n",
       "            (k_proj): Linear(in_features=1024, out_features=1024, bias=False)\n",
       "            (v_proj): Linear(in_features=1024, out_features=1024, bias=True)\n",
       "            (q_proj): Linear(in_features=1024, out_features=1024, bias=True)\n",
       "            (out_proj): Linear(in_features=1024, out_features=1024, bias=True)\n",
       "          )\n",
       "          (self_attn_layer_norm): LayerNorm((1024,), eps=1e-05, elementwise_affine=True)\n",
       "          (activation_fn): GELUActivation()\n",
       "          (fc1): Linear(in_features=1024, out_features=4096, bias=True)\n",
       "          (fc2): Linear(in_features=4096, out_features=1024, bias=True)\n",
       "          (final_layer_norm): LayerNorm((1024,), eps=1e-05, elementwise_affine=True)\n",
       "        )\n",
       "      )\n",
       "      (layer_norm): LayerNorm((1024,), eps=1e-05, elementwise_affine=True)\n",
       "    )\n",
       "    (decoder): WhisperDecoder(\n",
       "      (embed_tokens): Embedding(51865, 1024, padding_idx=50257)\n",
       "      (embed_positions): WhisperPositionalEmbedding(448, 1024)\n",
       "      (layers): ModuleList(\n",
       "        (0-23): 24 x WhisperDecoderLayer(\n",
       "          (self_attn): WhisperAttention(\n",
       "            (k_proj): Linear(in_features=1024, out_features=1024, bias=False)\n",
       "            (v_proj): Linear(in_features=1024, out_features=1024, bias=True)\n",
       "            (q_proj): Linear(in_features=1024, out_features=1024, bias=True)\n",
       "            (out_proj): Linear(in_features=1024, out_features=1024, bias=True)\n",
       "          )\n",
       "          (activation_fn): GELUActivation()\n",
       "          (self_attn_layer_norm): LayerNorm((1024,), eps=1e-05, elementwise_affine=True)\n",
       "          (encoder_attn): WhisperAttention(\n",
       "            (k_proj): Linear(in_features=1024, out_features=1024, bias=False)\n",
       "            (v_proj): Linear(in_features=1024, out_features=1024, bias=True)\n",
       "            (q_proj): Linear(in_features=1024, out_features=1024, bias=True)\n",
       "            (out_proj): Linear(in_features=1024, out_features=1024, bias=True)\n",
       "          )\n",
       "          (encoder_attn_layer_norm): LayerNorm((1024,), eps=1e-05, elementwise_affine=True)\n",
       "          (fc1): Linear(in_features=1024, out_features=4096, bias=True)\n",
       "          (fc2): Linear(in_features=4096, out_features=1024, bias=True)\n",
       "          (final_layer_norm): LayerNorm((1024,), eps=1e-05, elementwise_affine=True)\n",
       "        )\n",
       "      )\n",
       "      (layer_norm): LayerNorm((1024,), eps=1e-05, elementwise_affine=True)\n",
       "    )\n",
       "  )\n",
       "  (proj_out): Linear(in_features=1024, out_features=51865, bias=False)\n",
       ")"
      ]
     },
     "execution_count": 3,
     "metadata": {},
     "output_type": "execute_result"
    }
   ],
   "source": [
    "processor = WhisperProcessor.from_pretrained(MODEL, language=LANGUAGE, task=\"transcribe\")\n",
    "\n",
    "# --------- Original Whisper-medium ---------\n",
    "\n",
    "model = WhisperForConditionalGeneration.from_pretrained(MODEL)\n",
    "model.config.forced_decoder_ids = processor.get_decoder_prompt_ids(language=LANGUAGE, task=\"transcribe\",)\n",
    "\n",
    "model.eval().to(\"cuda\")\n",
    "\n",
    "# -------- Finetuned Whisper-medium ---------\n",
    "model_path = r\"D:\\Git_repos\\Persian_text_correction\\models\\finetuned_whisper-large-fa_1\\training_history\\2000 steps - train ALL val 400\\checkpoint-2000\"\n",
    "finetuned_model = WhisperForConditionalGeneration.from_pretrained(model_path)\n",
    "finetuned_model.config.forced_decoder_ids = processor.get_decoder_prompt_ids(language=LANGUAGE, task=\"transcribe\")\n",
    "\n",
    "finetuned_model.eval().to(\"cuda\")"
   ]
  },
  {
   "cell_type": "code",
   "execution_count": 4,
   "id": "5cdda52b",
   "metadata": {},
   "outputs": [],
   "source": [
    "def transcribe(audio_path, model, processor):\n",
    "    waveform, sample_rate = torchaudio.load(audio_path)\n",
    "    if sample_rate != 16000:\n",
    "        waveform = torchaudio.functional.resample(waveform, orig_freq=sample_rate, new_freq=16000)\n",
    "\n",
    "    if waveform.shape[0] > 1:\n",
    "        waveform = waveform.mean(dim=0, keepdim=True)\n",
    "\n",
    "    inputs = processor(\n",
    "        waveform.squeeze().numpy(), \n",
    "        sampling_rate=16000,\n",
    "        return_tensors=\"pt\"\n",
    "    ).input_features.to(\"cuda\")\n",
    "\n",
    "    generated_ids = model.generate(inputs)\n",
    "    return processor.tokenizer.batch_decode(generated_ids, skip_special_tokens=True)[0]"
   ]
  },
  {
   "cell_type": "markdown",
   "id": "8b38fefd",
   "metadata": {},
   "source": [
    "Input audio file"
   ]
  },
  {
   "cell_type": "code",
   "execution_count": 17,
   "id": "cb532a4a",
   "metadata": {},
   "outputs": [],
   "source": [
    "audio_file= r\"D:\\Datasets\\Audio_datasets\\myaudio_tiny\\myaudio\\12270012.wav\"\n",
    "# audio_file= r\"D:\\Datasets\\Audio_datasets\\myaudio_tiny\\myaudio\\12270029.wav\"\n",
    "# audio_file= r\"D:\\Datasets\\Audio_datasets\\myaudio_tiny\\myaudio\\12270036.wav\"\n",
    "# audio_file= r\"D:\\Datasets\\Audio_datasets\\myaudio_tiny\\myaudio\\12270038.wav\"\n",
    "# audio_file= r\"D:\\Datasets\\Audio_datasets\\myaudio_tiny\\myaudio\\12560242.wav\""
   ]
  },
  {
   "cell_type": "markdown",
   "id": "8cb11b4b",
   "metadata": {},
   "source": [
    "Run inference on original model"
   ]
  },
  {
   "cell_type": "code",
   "execution_count": 18,
   "id": "4357ee7f",
   "metadata": {},
   "outputs": [
    {
     "name": "stdout",
     "output_type": "stream",
     "text": [
      "Original model output:\n",
      "(' از سب تا شب به خاطر اون کار می کرد و خودش رو از پامین داخد او هر روز خودش '\n",
      " 'رو به آب آتیش می زد بلکه')\n"
     ]
    }
   ],
   "source": [
    "res = transcribe(audio_file, model, processor)\n",
    "\n",
    "print(\"Original model output:\")\n",
    "pprint(res)"
   ]
  },
  {
   "cell_type": "markdown",
   "id": "116d0eaf",
   "metadata": {},
   "source": [
    "Run inference on finetuned model"
   ]
  },
  {
   "cell_type": "code",
   "execution_count": 19,
   "id": "f65e9f1e",
   "metadata": {},
   "outputs": [
    {
     "name": "stdout",
     "output_type": "stream",
     "text": [
      "Finetuned model output:\n",
      "('از صبح تا شب به خاطر اون کار میکرد و خودش را از پامین داخت. او هر روز خودش '\n",
      " 'را به آب آتیش میزد بلکه')\n"
     ]
    }
   ],
   "source": [
    "res_finetuned = transcribe(audio_file, finetuned_model, processor)\n",
    "\n",
    "print(\"Finetuned model output:\")\n",
    "pprint(res_finetuned)"
   ]
  },
  {
   "cell_type": "code",
   "execution_count": null,
   "id": "b71d066b",
   "metadata": {},
   "outputs": [],
   "source": []
  },
  {
   "cell_type": "code",
   "execution_count": null,
   "id": "26ab2cfb",
   "metadata": {},
   "outputs": [],
   "source": []
  },
  {
   "cell_type": "code",
   "execution_count": null,
   "id": "aaf93fef",
   "metadata": {},
   "outputs": [],
   "source": []
  }
 ],
 "metadata": {
  "kernelspec": {
   "display_name": "Python 3 (ipykernel)",
   "language": "python",
   "name": "python3"
  },
  "language_info": {
   "codemirror_mode": {
    "name": "ipython",
    "version": 3
   },
   "file_extension": ".py",
   "mimetype": "text/x-python",
   "name": "python",
   "nbconvert_exporter": "python",
   "pygments_lexer": "ipython3",
   "version": "3.10.9"
  }
 },
 "nbformat": 4,
 "nbformat_minor": 5
}
