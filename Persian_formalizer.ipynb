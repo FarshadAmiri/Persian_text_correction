{
 "cells": [
  {
   "cell_type": "code",
   "execution_count": 1,
   "id": "3c12fd2c",
   "metadata": {},
   "outputs": [],
   "source": [
    "from transformers import (T5ForConditionalGeneration, AutoTokenizer, pipeline)\n",
    "import torch"
   ]
  },
  {
   "cell_type": "code",
   "execution_count": 3,
   "id": "e3550071",
   "metadata": {},
   "outputs": [
    {
     "data": {
      "application/vnd.jupyter.widget-view+json": {
       "model_id": "f33017d9d1fd4d059571345b35008375",
       "version_major": 2,
       "version_minor": 0
      },
      "text/plain": [
       "model.safetensors:  78%|#######8  | 776M/990M [00:00<?, ?B/s]"
      ]
     },
     "metadata": {},
     "output_type": "display_data"
    },
    {
     "name": "stderr",
     "output_type": "stream",
     "text": [
      "D:\\Projects\\venv2\\lib\\site-packages\\huggingface_hub\\file_download.py:144: UserWarning: `huggingface_hub` cache-system uses symlinks by default to efficiently store duplicated files but your machine does not support them in C:\\Users\\User_1\\.cache\\huggingface\\hub\\models--PardisSzah--PersianTextFormalizer. Caching files will still work but in a degraded version that might require more space on your disk. This warning can be disabled by setting the `HF_HUB_DISABLE_SYMLINKS_WARNING` environment variable. For more details, see https://huggingface.co/docs/huggingface_hub/how-to-cache#limitations.\n",
      "To support symlinks on Windows, you either need to activate Developer Mode or to run Python as an administrator. In order to activate developer mode, see this article: https://docs.microsoft.com/en-us/windows/apps/get-started/enable-your-device-for-development\n",
      "  warnings.warn(message)\n"
     ]
    },
    {
     "data": {
      "application/vnd.jupyter.widget-view+json": {
       "model_id": "814d8039362f48dbbff8d948b9cb5bbc",
       "version_major": 2,
       "version_minor": 0
      },
      "text/plain": [
       "generation_config.json:   0%|          | 0.00/142 [00:00<?, ?B/s]"
      ]
     },
     "metadata": {},
     "output_type": "display_data"
    },
    {
     "data": {
      "application/vnd.jupyter.widget-view+json": {
       "model_id": "055a3f645b134124a761565907683c5c",
       "version_major": 2,
       "version_minor": 0
      },
      "text/plain": [
       "tokenizer_config.json:   0%|          | 0.00/21.0k [00:00<?, ?B/s]"
      ]
     },
     "metadata": {},
     "output_type": "display_data"
    },
    {
     "data": {
      "application/vnd.jupyter.widget-view+json": {
       "model_id": "6d7661b428394dd284944cf83792917c",
       "version_major": 2,
       "version_minor": 0
      },
      "text/plain": [
       "tokenizer.json:   0%|          | 0.00/2.06M [00:00<?, ?B/s]"
      ]
     },
     "metadata": {},
     "output_type": "display_data"
    },
    {
     "data": {
      "application/vnd.jupyter.widget-view+json": {
       "model_id": "f0a3f55e792c4ca2900dd2ee7ffaf01c",
       "version_major": 2,
       "version_minor": 0
      },
      "text/plain": [
       "special_tokens_map.json:   0%|          | 0.00/2.54k [00:00<?, ?B/s]"
      ]
     },
     "metadata": {},
     "output_type": "display_data"
    },
    {
     "name": "stderr",
     "output_type": "stream",
     "text": [
      "Device set to use cuda:0\n"
     ]
    }
   ],
   "source": [
    "model = T5ForConditionalGeneration.from_pretrained('PardisSzah/PersianTextFormalizer')\n",
    "tokenizer = AutoTokenizer.from_pretrained('PardisSzah/PersianTextFormalizer')\n",
    "\n",
    "pipe = pipeline(task='text2text-generation', model=model, tokenizer=tokenizer)"
   ]
  },
  {
   "cell_type": "code",
   "execution_count": 4,
   "id": "67304d5a",
   "metadata": {},
   "outputs": [],
   "source": [
    "def test_model(text):\n",
    "  device = torch.device('cuda' if torch.cuda.is_available() else 'cpu')  \n",
    "  model.to(device) \n",
    "\n",
    "  inputs = tokenizer.encode(\"informal: \" + text, return_tensors='pt', max_length=128, truncation=True, padding='max_length')\n",
    "  inputs = inputs.to(device) \n",
    "\n",
    "  outputs = model.generate(inputs, max_length=128, num_beams=4)\n",
    "  print(\"Output:\", tokenizer.decode(outputs[0], skip_special_tokens=True)) "
   ]
  },
  {
   "cell_type": "code",
   "execution_count": null,
   "id": "cf20bc5e",
   "metadata": {},
   "outputs": [
    {
     "name": "stdout",
     "output_type": "stream",
     "text": [
      "Original: به یکی از دوستام میگم که چرا اینکار رو میکنی چرا به فکرت نباید برسه \n",
      "Output: به یکی از دوستانم می گویم که چرا اینکار را می کنی چرا به فکرت نباید برسد.\n",
      "Original: اسم من فرشاده و خوشحالم که از این مدل خوشتون اومده \n",
      "Output: اسم من فرشاد است و خوشحالم که از این مدل خوشتان آمده است.\n"
     ]
    }
   ],
   "source": [
    "text = \"اسم من فرشاده و خوشحالم که از این مدل خوشتون اومده \"\n",
    "print(\"Original:\", text)\n",
    "test_model(text)"
   ]
  },
  {
   "cell_type": "code",
   "execution_count": 7,
   "id": "1df13e3d",
   "metadata": {},
   "outputs": [
    {
     "name": "stdout",
     "output_type": "stream",
     "text": [
      "Original: آره بابا میدونم درست میگی\n",
      "Output: آره بابا می دانم درست می گویی.\n"
     ]
    }
   ],
   "source": [
    "text = \"آره بابا میدونم درست میگی\"\n",
    "print(\"Original:\", text)\n",
    "test_model(text)"
   ]
  },
  {
   "cell_type": "code",
   "execution_count": 21,
   "id": "75ffe462",
   "metadata": {},
   "outputs": [
    {
     "name": "stdout",
     "output_type": "stream",
     "text": [
      "Original:  خب من سوالم اینه مگه میشه از همچین چیزایی جلوگیری کرد؟\n",
      "Output: خب من سؤالم این است که چرا می شود از چنین چیزهایی جلوگیری کرد؟\n"
     ]
    }
   ],
   "source": [
    "text = \"خب من سوالم اینه مگه میشه از همچین چیزایی جلوگیری کرد؟\"\n",
    "print(\"Original: \", text)\n",
    "test_model(text)"
   ]
  },
  {
   "cell_type": "code",
   "execution_count": null,
   "id": "d42e9945",
   "metadata": {},
   "outputs": [],
   "source": []
  },
  {
   "cell_type": "code",
   "execution_count": null,
   "id": "dd940330",
   "metadata": {},
   "outputs": [],
   "source": []
  },
  {
   "cell_type": "code",
   "execution_count": null,
   "id": "ae3a4e69",
   "metadata": {},
   "outputs": [],
   "source": []
  }
 ],
 "metadata": {
  "kernelspec": {
   "display_name": "Python 3 (ipykernel)",
   "language": "python",
   "name": "python3"
  },
  "language_info": {
   "codemirror_mode": {
    "name": "ipython",
    "version": 3
   },
   "file_extension": ".py",
   "mimetype": "text/x-python",
   "name": "python",
   "nbconvert_exporter": "python",
   "pygments_lexer": "ipython3",
   "version": "3.10.9"
  }
 },
 "nbformat": 4,
 "nbformat_minor": 5
}
